{
 "cells": [
  {
   "cell_type": "code",
   "execution_count": 1,
   "id": "770bb0e5-5f4a-449d-bdcf-bd7447bd6c99",
   "metadata": {},
   "outputs": [],
   "source": [
    "import sys\n",
    "import os\n",
    "from datetime import datetime\n",
    "from functools import cache\n",
    "from itertools import groupby, chain\n",
    "from pathlib import Path\n",
    "from types import MethodType\n",
    "from difflib import SequenceMatcher\n",
    "import joblib\n",
    "from tqdm.auto import tqdm\n",
    "\n",
    "import numpy as np\n",
    "import webvtt\n",
    "from praatio import textgrid\n",
    "import epitran\n",
    "import panphon"
   ]
  },
  {
   "cell_type": "code",
   "execution_count": 2,
   "id": "2167edfb-9a99-4499-94c1-c888cf233bd1",
   "metadata": {},
   "outputs": [],
   "source": [
    "def softmax(x):\n",
    "    return np.exp(x)/np.exp(x).sum(axis=1)[:,np.newaxis]"
   ]
  },
  {
   "cell_type": "code",
   "execution_count": 3,
   "id": "2974239c-381a-48ad-94e9-04e9698a1c41",
   "metadata": {},
   "outputs": [],
   "source": [
    "@cache\n",
    "def compute_phone_dist(tgt_phone):\n",
    "    mask = np.array([x in ft.seg_dict for x in allo_ipas])\n",
    "    if tgt_phone not in ft.seg_dict:\n",
    "        dist_vec = np.ones((len(allo_ipas),))*15\n",
    "    else:\n",
    "        phone_dist = [ft.fts(tgt_phone).hamming_distance(ft.fts(allo_phone_x))\n",
    "                          for allo_phone_x in allo_ipas\n",
    "                          if allo_phone_x in ft.seg_dict]\n",
    "        dist_vec = np.zeros((len(allo_ipas),))\n",
    "        dist_vec[~mask] = np.max(phone_dist)+1\n",
    "        dist_vec[mask] = phone_dist\n",
    "    return dist_vec"
   ]
  },
  {
   "cell_type": "code",
   "execution_count": 4,
   "id": "b40d43e1-e952-493d-be8d-6da69dd8d792",
   "metadata": {},
   "outputs": [],
   "source": [
    "def compute_scores(prob_mat, tgt_phone):\n",
    "    dist_vec = compute_phone_dist(tgt_phone)\n",
    "    dist_vec = np.exp(-dist_vec)    \n",
    "    dist_vec /= np.sum(dist_vec)\n",
    "    # logit_mat: M X V\n",
    "    # dist_vec: V\n",
    "    score_vec = prob_mat.dot(dist_vec)    \n",
    "    Z = np.sum(score_vec)\n",
    "    p_vec = score_vec/Z\n",
    "    return p_vec"
   ]
  },
  {
   "cell_type": "code",
   "execution_count": 47,
   "id": "d8d9ba82",
   "metadata": {},
   "outputs": [
    {
     "data": {
      "text/plain": [
       "41"
      ]
     },
     "execution_count": 47,
     "metadata": {},
     "output_type": "execute_result"
    }
   ],
   "source": [
    "N"
   ]
  },
  {
   "cell_type": "code",
   "execution_count": 48,
   "id": "bc990634-6096-4be0-a4c8-e3dfe788ee70",
   "metadata": {},
   "outputs": [],
   "source": [
    "def compute_trellis(prob_mat, epi_phones, C_del=-np.log(0.01)):\n",
    "    M, V = prob_mat.shape\n",
    "    N = len(epi_phones)\n",
    "    trellis = np.zeros((M, N))\n",
    "    trellis[0,:] = np.arange(N)\n",
    "    trellis[:,0] = np.arange(M)    \n",
    "    backtrack = {(i, 0): ((i-1, 0),i) for i in range(1,M)}\n",
    "    backtrack.update({(0,j): ((0,j-1),j) for j in range(1,N)})  #type:ignore\n",
    "    for j in range(1,N):\n",
    "        mu_j = -np.log(compute_scores(prob_mat, epi_phones[j]))\n",
    "        for i in range(1,M):\n",
    "            dist_vec = [\n",
    "                # replace\n",
    "                trellis[i-1, j-1] + mu_j[i],\n",
    "                # delete (skip epi_phone)\n",
    "                trellis[i, j-1] + C_del,\n",
    "                # insert (stay at same epi_phone)\n",
    "                trellis[i-1, j] + mu_j[i]\n",
    "            ]\n",
    "            dist_argmin = np.argmin(dist_vec)\n",
    "            pointer = ((i-1,j-1),(i,j-1),(i-1,j))[dist_argmin]\n",
    "            mindist_x = np.min(dist_vec)\n",
    "            backtrack[i,j] = (pointer, mindist_x)        \n",
    "            trellis[i,j] = mindist_x\n",
    "    return trellis, backtrack\n",
    "        "
   ]
  },
  {
   "cell_type": "code",
   "execution_count": 34,
   "id": "59d48dc1-80a3-487e-8901-ba9a675a9083",
   "metadata": {},
   "outputs": [],
   "source": [
    "def create_path(init_point, backtrack):\n",
    "    path = []    \n",
    "    buf = [init_point]\n",
    "    while buf:\n",
    "        cur_point = buf.pop()\n",
    "        path.append(cur_point)\n",
    "        if cur_point in backtrack:\n",
    "            prev_point = backtrack[cur_point][0]            \n",
    "            buf.append(prev_point)            \n",
    "    return path[::-1]            "
   ]
  },
  {
   "cell_type": "code",
   "execution_count": 35,
   "id": "eebc5b69-a0d8-46c3-a6bd-82c210593b99",
   "metadata": {},
   "outputs": [],
   "source": [
    "def to_seconds(time_str):\n",
    "    ref = datetime(1900,1,1)\n",
    "    delta = datetime.strptime(time_str, \"%H:%M:%S.%f\")-ref\n",
    "    return delta.seconds + delta.microseconds/1000000"
   ]
  },
  {
   "cell_type": "code",
   "execution_count": 36,
   "id": "e2963e44-a2e5-4312-a320-2ca46c57d9dd",
   "metadata": {},
   "outputs": [],
   "source": [
    "#https://github.com/dmort27/epitran/blob/a30eef02327af0f5f1d161fa427f9e56545b3b64/epitran/epihan.py\n",
    "def transliterate_char(self, text):\n",
    "    tokens = self.cedict.tokenize(text)\n",
    "    ipa_tokens = []\n",
    "    for token in tokens:\n",
    "        if token in self.cedict.hanzi:\n",
    "            (pinyin, _) = self.cedict.hanzi[token]            \n",
    "            ipa = [self.rules.apply(pinyin_x)\n",
    "                   for pinyin_x in pinyin]\n",
    "            ipa = [x.replace(u',', u'') for x in ipa]\n",
    "            ipa_tokens.extend(ipa)\n",
    "        else:\n",
    "            ipa_tokens.append(token)\n",
    "    return ipa_tokens"
   ]
  },
  {
   "cell_type": "code",
   "execution_count": 37,
   "id": "6888f1a2-430c-4293-ad6f-6b9a539053e4",
   "metadata": {},
   "outputs": [],
   "source": [
    "def extract_dark_phones(phone_logits):\n",
    "    max_idxs = phone_logits.argsort()[::-1]\n",
    "    if max_idxs[0] != 0:\n",
    "        # return [ipa_tokens[i] for i in max_idxs[:1]]\n",
    "        return None\n",
    "    else:\n",
    "        return allo_ipas[max_idxs[1]]"
   ]
  },
  {
   "cell_type": "code",
   "execution_count": 38,
   "id": "31f075cb-91ef-45b8-b728-3008bc84f888",
   "metadata": {},
   "outputs": [],
   "source": [
    "def align_phones(paths, epi_phones, frames):\n",
    "    label_spans = groupby(paths, key=lambda x: x[1])\n",
    "    aligned = []\n",
    "    epi_idxs = []\n",
    "    last_frame_i = -1\n",
    "    for epi_id, paths_x in label_spans:\n",
    "        epi_phone_x = epi_phones[epi_id]\n",
    "        paths_x = list(paths_x)\n",
    "        # print(label_id, paths_x)\n",
    "        start_frame_i = paths_x[0][0]\n",
    "        end_frame_i = paths_x[-1][0]\n",
    "\n",
    "        if last_frame_i == start_frame_i:\n",
    "            # skip duplicate frames, i.e. dropping labels\n",
    "            aligned.append((epi_phone_x, [])) \n",
    "            epi_idxs.append(epi_id)\n",
    "            continue\n",
    "        else:\n",
    "            aligned.append((epi_phone_x, \n",
    "                           frames[start_frame_i:end_frame_i+1]))        \n",
    "            epi_idxs.append(epi_id)\n",
    "        last_frame_i = start_frame_i\n",
    "    return aligned\n",
    "\n",
    "def align_characters(transcript, aligned_phones):        \n",
    "    char_map = []\n",
    "    cursor = 0\n",
    "    for ch_idx, ch_ipas in enumerate(epi.transliterate_char(transcript)):\n",
    "        char_phones_x = ft.ipa_segs(ch_ipas)        \n",
    "        char_map.append(list(range(cursor, cursor+len(char_phones_x)+1)))\n",
    "        cursor += len(char_phones_x)        \n",
    "    \n",
    "    print(char_map)\n",
    "    aligned = []\n",
    "    for char_i, phone_idxs in enumerate(char_map):             \n",
    "        if not phone_idxs:\n",
    "            continue\n",
    "        first_phone_i = phone_idxs[0]\n",
    "        last_phone_i = phone_idxs[-1]\n",
    "        frames_x = [aligned_phones[i][1]\n",
    "                    for i in range(first_phone_i, last_phone_i)]\n",
    "        frames_x = sum(frames_x, [])        \n",
    "        aligned.append((transcript[char_i], frames_x))\n",
    "    return aligned"
   ]
  },
  {
   "cell_type": "code",
   "execution_count": 49,
   "id": "53490f26-c403-445a-82f2-68b2bb3a5fea",
   "metadata": {},
   "outputs": [],
   "source": [
    "# EpiPhone = str\n",
    "# Charac = str\n",
    "# AlignedEntries = Tuple[EpiPhone|Charac, List[EmitFrame]]\n",
    "# aligned_entries: List[AlignedPhone]\n",
    "def make_aligned_textgrid(aligned_entries):        \n",
    "    entries = []\n",
    "    for label_x, frames_x in aligned_entries:                \n",
    "        if not frames_x: continue\n",
    "        start = frames_x[0].offset_s    \n",
    "        end = frames_x[-1].end\n",
    "        entries.append((start, end, label_x))        \n",
    "    return entries\n",
    "\n",
    "def make_raw_textgrid(frames):\n",
    "    entries = []\n",
    "    for i in range(len(frames)):\n",
    "        start = frames[i].offset_s        \n",
    "        end = frames[i].end   \n",
    "        if frames[i].phone_token == \"<blk>\":\n",
    "            phone_token = \"[{}]\".format(extract_dark_phones(frames[i].phone_logits))\n",
    "        else:\n",
    "            phone_token = frames[i].phone_token\n",
    "        entries.append((start, end, phone_token))\n",
    "    return entries\n"
   ]
  },
  {
   "cell_type": "markdown",
   "id": "0041889d-d720-41aa-980f-3258f8889cde",
   "metadata": {},
   "source": [
    "## Aligning"
   ]
  },
  {
   "cell_type": "code",
   "execution_count": 40,
   "id": "f19f95f2-db2f-4cd9-a38b-4c8e7ef32a9d",
   "metadata": {},
   "outputs": [],
   "source": [
    "# globals\n",
    "ipa_text_path = Path(\"../data/allosaurus_ipas.txt\")\n",
    "allo_ipas = ipa_text_path.read_text(encoding=\"UTF-8\").split()\n",
    "ft = panphon.FeatureTable()"
   ]
  },
  {
   "cell_type": "code",
   "execution_count": 41,
   "id": "e240ffe9-cbff-428f-a414-f4cd5572bcca",
   "metadata": {},
   "outputs": [],
   "source": [
    "epi = epitran.Epitran('cmn-Hant', cedict_file='../data/cedict_1_0_ts_utf-8_mdbg.txt')\n",
    "emits = joblib.load(\"../data/emitframes_clgvd-210315091356.emit2.pkl\")\n",
    "ipa_text_path = Path(\"../data/allosaurus_ipas.txt\")\n",
    "vtt = webvtt.read(\"../data/clgvd-210315091356.wav.vtt\")\n",
    "\n",
    "epi.epi.transliterate_char = MethodType(transliterate_char, epi.epi)\n",
    "epi.transliterate_char = epi.epi.transliterate_char"
   ]
  },
  {
   "cell_type": "markdown",
   "id": "b9f720e2-219b-4148-bf9c-89bdeaee8416",
   "metadata": {},
   "source": [
    "## Main loop"
   ]
  },
  {
   "cell_type": "code",
   "execution_count": 42,
   "id": "cc9abd88-f374-414b-9a4e-2d5910ab1e07",
   "metadata": {},
   "outputs": [
    {
     "name": "stdout",
     "output_type": "stream",
     "text": [
      "00:05:14.320 00:05:15.600 至少目前他們朝這方面在努力當中\n"
     ]
    }
   ],
   "source": [
    "#　[i for i in range(len(vtt)) if \"長這樣\" in vtt[i].text]\n",
    "print(vtt[161])"
   ]
  },
  {
   "cell_type": "code",
   "execution_count": 43,
   "id": "4c7ab572-7064-4499-96c6-5402fc637ad7",
   "metadata": {},
   "outputs": [],
   "source": [
    "# 387 還是因為我時間到\n",
    "vtt_idx = 161"
   ]
  },
  {
   "cell_type": "code",
   "execution_count": 44,
   "id": "cc4676ea",
   "metadata": {},
   "outputs": [
    {
     "data": {
      "text/plain": [
       "[('a', [<EmitFrameInfo o @314.49>]),\n",
       " ('n', [<EmitFrameInfo ŋ @314.52>]),\n",
       " ('t͡s', [<EmitFrameInfo m @314.55>]),\n",
       " ('a', [<EmitFrameInfo <blk> @314.61>]),\n",
       " ('i', [<EmitFrameInfo t @314.70>, <EmitFrameInfo e @314.73>]),\n",
       " ('n', [<EmitFrameInfo <blk> @314.76>]),\n",
       " ('u', [<EmitFrameInfo l̪ @314.94>]),\n",
       " ('l', [<EmitFrameInfo l @314.97>]),\n",
       " ('i', [<EmitFrameInfo i @315.00>, <EmitFrameInfo <blk> @315.03>]),\n",
       " ('t', [<EmitFrameInfo t @315.06>]),\n",
       " ('a', [<EmitFrameInfo o @315.12>]),\n",
       " ('ŋ', [<EmitFrameInfo ŋ @315.15>]),\n",
       " ('ʈ͡ʂ', [<EmitFrameInfo <blk> @315.21>, <EmitFrameInfo t @315.24>]),\n",
       " ('o', [<EmitFrameInfo u @315.27>, <EmitFrameInfo o @315.30>]),\n",
       " ('ŋ', [<EmitFrameInfo ŋ @315.33>, <EmitFrameInfo <blk> @315.36>])]"
      ]
     },
     "execution_count": 44,
     "metadata": {},
     "output_type": "execute_result"
    }
   ],
   "source": [
    "aligned_phones"
   ]
  },
  {
   "cell_type": "code",
   "execution_count": 50,
   "id": "33d40e1f-98ed-421c-8b5a-1197e99a0ba1",
   "metadata": {},
   "outputs": [
    {
     "name": "stdout",
     "output_type": "stream",
     "text": [
      "20 41 230\n",
      "[[0, 1, 2], [2, 3, 4, 5], [5, 6, 7], [7, 8, 9, 10, 11], [11, 12, 13], [13, 14, 15, 16], [16, 17, 18, 19], [19, 20, 21], [21, 22, 23, 24], [24, 25, 26, 27, 28], [28, 29, 30, 31], [31, 32, 33], [33, 34, 35], [35, 36, 37, 38], [38, 39, 40, 41]]\n"
     ]
    }
   ],
   "source": [
    "vtt_x = vtt[vtt_idx]\n",
    "vtt_start = to_seconds(vtt_x.start)\n",
    "vtt_end = to_seconds(vtt_x.end)\n",
    "transcript = vtt_x.text\n",
    "frames = [x for x in emits\n",
    "          if vtt_start < x.offset_s < vtt_end]\n",
    "\n",
    "# set frame's `end` attribute for easier programming\n",
    "\n",
    "for frame_i in range(0, len(frames)-1):\n",
    "    setattr(frames[frame_i], \"start\", frames[frame_i].offset_s)\n",
    "    setattr(frames[frame_i], \"end\", frames[frame_i+1].offset_s)\n",
    "setattr(frames[0], \"start\", vtt_start)\n",
    "setattr(frames[-1], \"end\", vtt_end)\n",
    "\n",
    "# forced alignment\n",
    "# logit_mat: M (# of tokens) x V (# of phone set)\n",
    "logit_mat = np.vstack([x.phone_logits for x in frames])\n",
    "prob_mat = softmax(logit_mat)\n",
    "M, V = prob_mat.shape\n",
    "epi_ipas = epi.transliterate(transcript)\n",
    "epi_phones = ft.ipa_segs(epi_ipas)\n",
    "N = len(epi_phones)\n",
    "print(M, N, V)\n",
    "trellis, backtrack = compute_trellis(prob_mat, epi_phones)\n",
    "\n",
    "# trace paths\n",
    "init_point = (logit_mat.shape[0]-1, len(epi_phones)-1)\n",
    "paths = create_path(init_point, backtrack)\n",
    "aligned_phones = align_phones(paths, epi_phones, frames)\n",
    "aligned_chars = align_characters(transcript, aligned_phones)\n",
    "\n",
    "# write textgrids\n",
    "aligned_chars = make_aligned_textgrid(aligned_chars)\n",
    "aligned_entries = make_aligned_textgrid(aligned_phones)\n",
    "raw_entries = make_raw_textgrid(frames)\n",
    "tg = textgrid.Textgrid()\n",
    "minT = vtt_start\n",
    "maxT = vtt_end\n",
    "tg.addTier(textgrid.IntervalTier(\"characs\", entryList=aligned_chars, minT=minT, maxT=maxT))\n",
    "tg.addTier(textgrid.IntervalTier(\"phones\", entryList=aligned_entries, minT=minT, maxT=maxT))\n",
    "tg.addTier(textgrid.IntervalTier(\"alloframe\", entryList=raw_entries, minT=minT, maxT=maxT))\n",
    "tg.save(f\"../data/allosaurus.align.{vtt_idx}.TextGrid\", format=\"short_textgrid\", includeBlankSpaces=False)"
   ]
  },
  {
   "cell_type": "code",
   "execution_count": 52,
   "id": "1ddb6eb8",
   "metadata": {},
   "outputs": [
    {
     "data": {
      "text/plain": [
       "[(0, 0),\n",
       " (0, 1),\n",
       " (0, 2),\n",
       " (0, 3),\n",
       " (0, 4),\n",
       " (0, 5),\n",
       " (0, 6),\n",
       " (0, 7),\n",
       " (0, 8),\n",
       " (0, 9),\n",
       " (0, 10),\n",
       " (0, 11),\n",
       " (0, 12),\n",
       " (0, 13),\n",
       " (0, 14),\n",
       " (0, 15),\n",
       " (0, 16),\n",
       " (0, 17),\n",
       " (0, 18),\n",
       " (0, 19),\n",
       " (0, 20),\n",
       " (0, 21),\n",
       " (0, 22),\n",
       " (0, 23),\n",
       " (0, 24),\n",
       " (0, 25),\n",
       " (0, 26),\n",
       " (1, 27),\n",
       " (2, 28),\n",
       " (3, 29),\n",
       " (4, 30),\n",
       " (5, 30),\n",
       " (6, 31),\n",
       " (7, 32),\n",
       " (8, 33),\n",
       " (9, 34),\n",
       " (10, 34),\n",
       " (11, 35),\n",
       " (12, 36),\n",
       " (13, 37),\n",
       " (14, 38),\n",
       " (15, 38),\n",
       " (16, 39),\n",
       " (17, 39),\n",
       " (18, 40),\n",
       " (19, 40)]"
      ]
     },
     "execution_count": 52,
     "metadata": {},
     "output_type": "execute_result"
    }
   ],
   "source": [
    "paths"
   ]
  },
  {
   "cell_type": "code",
   "execution_count": 53,
   "id": "7641f0ed-682b-4511-8f13-dc5fadb6b325",
   "metadata": {},
   "outputs": [
    {
     "data": {
      "text/plain": [
       "<matplotlib.colorbar.Colorbar at 0x7f90671bdbe0>"
      ]
     },
     "execution_count": 53,
     "metadata": {},
     "output_type": "execute_result"
    },
    {
     "data": {
      "image/png": "[encoded data removed]",
      "text/plain": [
       "<Figure size 432x288 with 2 Axes>"
      ]
     },
     "metadata": {
      "needs_background": "light"
     },
     "output_type": "display_data"
    }
   ],
   "source": [
    "import matplotlib.pyplot as plt\n",
    "plt.imshow(trellis, 'terrain')\n",
    "plt.plot([j for (i,j) in paths], [i for (i,j) in paths], color='#FFAA00')\n",
    "plt.colorbar()\n",
    "# plt.axis('equal')\n"
   ]
  },
  {
   "cell_type": "code",
   "execution_count": 54,
   "id": "f39de53b-4909-4e66-a561-bf07063885e7",
   "metadata": {},
   "outputs": [
    {
     "name": "stdout",
     "output_type": "stream",
     "text": [
      "[[0, 1, 2], [2, 3, 4, 5], [5, 6, 7], [7, 8, 9, 10, 11], [11, 12, 13], [13, 14, 15, 16], [16, 17, 18, 19], [19, 20, 21], [21, 22, 23, 24], [24, 25, 26, 27, 28], [28, 29, 30, 31], [31, 32, 33], [33, 34, 35], [35, 36, 37, 38], [38, 39, 40, 41]]\n"
     ]
    },
    {
     "data": {
      "text/plain": [
       "[('至', [<EmitFrameInfo o @314.49>]),\n",
       " ('少', []),\n",
       " ('目', []),\n",
       " ('前', []),\n",
       " ('他', []),\n",
       " ('們', []),\n",
       " ('朝', []),\n",
       " ('這', []),\n",
       " ('方', []),\n",
       " ('面', [<EmitFrameInfo ŋ @314.52>]),\n",
       " ('在',\n",
       "  [<EmitFrameInfo m @314.55>,\n",
       "   <EmitFrameInfo <blk> @314.61>,\n",
       "   <EmitFrameInfo t @314.70>,\n",
       "   <EmitFrameInfo e @314.73>]),\n",
       " ('努', [<EmitFrameInfo <blk> @314.76>, <EmitFrameInfo l̪ @314.94>]),\n",
       " ('力',\n",
       "  [<EmitFrameInfo l @314.97>,\n",
       "   <EmitFrameInfo i @315.00>,\n",
       "   <EmitFrameInfo <blk> @315.03>]),\n",
       " ('當',\n",
       "  [<EmitFrameInfo t @315.06>,\n",
       "   <EmitFrameInfo o @315.12>,\n",
       "   <EmitFrameInfo ŋ @315.15>]),\n",
       " ('中',\n",
       "  [<EmitFrameInfo <blk> @315.21>,\n",
       "   <EmitFrameInfo t @315.24>,\n",
       "   <EmitFrameInfo u @315.27>,\n",
       "   <EmitFrameInfo o @315.30>,\n",
       "   <EmitFrameInfo ŋ @315.33>,\n",
       "   <EmitFrameInfo <blk> @315.36>])]"
      ]
     },
     "execution_count": 54,
     "metadata": {},
     "output_type": "execute_result"
    }
   ],
   "source": [
    "align_characters(transcript, aligned_phones)"
   ]
  },
  {
   "cell_type": "code",
   "execution_count": null,
   "id": "4d69b8bb-191d-4edc-ae98-323e91d55978",
   "metadata": {},
   "outputs": [],
   "source": []
  }
 ],
 "metadata": {
  "kernelspec": {
   "display_name": "Python 3.9.5 ('base')",
   "language": "python",
   "name": "python3"
  },
  "language_info": {
   "codemirror_mode": {
    "name": "ipython",
    "version": 3
   },
   "file_extension": ".py",
   "mimetype": "text/x-python",
   "name": "python",
   "nbconvert_exporter": "python",
   "pygments_lexer": "ipython3",
   "version": "3.9.5"
  },
  "vscode": {
   "interpreter": {
    "hash": "0b2c2a14eda9f23296c33148fe3ba13021aeaae891a14659c66f3ff82393d7a2"
   }
  }
 },
 "nbformat": 4,
 "nbformat_minor": 5
}
