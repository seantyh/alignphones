{
 "cells": [
  {
   "cell_type": "code",
   "execution_count": 20,
   "id": "770bb0e5-5f4a-449d-bdcf-bd7447bd6c99",
   "metadata": {},
   "outputs": [],
   "source": [
    "import sys\n",
    "import os\n",
    "from datetime import datetime\n",
    "from functools import cache\n",
    "from itertools import groupby, chain\n",
    "from pathlib import Path\n",
    "from types import MethodType\n",
    "from difflib import SequenceMatcher\n",
    "import joblib\n",
    "from tqdm.auto import tqdm\n",
    "\n",
    "import numpy as np\n",
    "import webvtt\n",
    "from praatio import textgrid\n",
    "import epitran\n",
    "import panphon"
   ]
  },
  {
   "cell_type": "code",
   "execution_count": 2,
   "id": "2167edfb-9a99-4499-94c1-c888cf233bd1",
   "metadata": {},
   "outputs": [],
   "source": [
    "def softmax(x):\n",
    "    return np.exp(x)/np.exp(x).sum(axis=1)[:,np.newaxis]"
   ]
  },
  {
   "cell_type": "code",
   "execution_count": 3,
   "id": "2974239c-381a-48ad-94e9-04e9698a1c41",
   "metadata": {},
   "outputs": [],
   "source": [
    "@cache\n",
    "def compute_phone_dist(tgt_phone):\n",
    "    mask = np.array([x in ft.seg_dict for x in allo_ipas])\n",
    "    if tgt_phone not in ft.seg_dict:\n",
    "        dist_vec = np.ones((len(allo_ipas),))*15\n",
    "    else:\n",
    "        phone_dist = [ft.fts(tgt_phone).hamming_distance(ft.fts(allo_phone_x))\n",
    "                          for allo_phone_x in allo_ipas\n",
    "                          if allo_phone_x in ft.seg_dict]\n",
    "        dist_vec = np.zeros((len(allo_ipas),))\n",
    "        dist_vec[~mask] = np.max(phone_dist)+1\n",
    "        dist_vec[mask] = phone_dist\n",
    "    return dist_vec"
   ]
  },
  {
   "cell_type": "code",
   "execution_count": 4,
   "id": "b40d43e1-e952-493d-be8d-6da69dd8d792",
   "metadata": {},
   "outputs": [],
   "source": [
    "def compute_scores(prob_mat, tgt_phone):\n",
    "    dist_vec = compute_phone_dist(tgt_phone)\n",
    "    dist_vec = np.exp(-dist_vec)    \n",
    "    dist_vec /= np.sum(dist_vec)\n",
    "    # logit_mat: M X V\n",
    "    # dist_vec: V\n",
    "    score_vec = prob_mat.dot(dist_vec)    \n",
    "    Z = np.sum(score_vec)\n",
    "    p_vec = score_vec/Z\n",
    "    return p_vec"
   ]
  },
  {
   "cell_type": "code",
   "execution_count": 5,
   "id": "bc990634-6096-4be0-a4c8-e3dfe788ee70",
   "metadata": {},
   "outputs": [],
   "source": [
    "def compute_trellis(prob_mat, epi_phones, C_del=-np.log(0.01)):\n",
    "    M, V = prob_mat.shape\n",
    "    N = len(epi_phones)\n",
    "    trellis = np.zeros((M, N))\n",
    "    trellis[0,:] = np.arange(N)\n",
    "    trellis[:,0] = np.arange(M)    \n",
    "    backtrack = {(0,i): ((0,i-1),i) for i in range(1,M)}\n",
    "    backtrack.update({(j,0): ((j-1,0),j) for j in range(1,N)})\n",
    "    for j in range(1,N):\n",
    "        mu_j = -np.log(compute_scores(prob_mat, epi_phones[j]))\n",
    "        for i in range(1,M):\n",
    "            dist_vec = [\n",
    "                # replace\n",
    "                trellis[i-1, j-1] + mu_j[i],\n",
    "                # delete (skip epi_phone)\n",
    "                trellis[i, j-1] + C_del,\n",
    "                # insert (stay at same epi_phone)\n",
    "                trellis[i-1, j] + mu_j[i]\n",
    "            ]\n",
    "            dist_argmin = np.argmin(dist_vec)\n",
    "            pointer = ((i-1,j-1),(i,j-1),(i-1,j))[dist_argmin]\n",
    "            mindist_x = np.min(dist_vec)\n",
    "            backtrack[i,j] = (pointer, mindist_x)        \n",
    "            trellis[i,j] = mindist_x\n",
    "    return trellis, backtrack\n",
    "        "
   ]
  },
  {
   "cell_type": "code",
   "execution_count": 6,
   "id": "59d48dc1-80a3-487e-8901-ba9a675a9083",
   "metadata": {},
   "outputs": [],
   "source": [
    "def create_path(init_point, backtrack):\n",
    "    path = []    \n",
    "    buf = [init_point]\n",
    "    while buf:\n",
    "        cur_point = buf.pop()\n",
    "        path.append(cur_point)\n",
    "        if cur_point in backtrack:\n",
    "            prev_point = backtrack[cur_point][0]            \n",
    "            buf.append(prev_point)            \n",
    "    return path[::-1]            "
   ]
  },
  {
   "cell_type": "code",
   "execution_count": 7,
   "id": "eebc5b69-a0d8-46c3-a6bd-82c210593b99",
   "metadata": {},
   "outputs": [],
   "source": [
    "def to_seconds(time_str):\n",
    "    ref = datetime(1900,1,1)\n",
    "    delta = datetime.strptime(time_str, \"%H:%M:%S.%f\")-ref\n",
    "    return delta.seconds + delta.microseconds/1000000"
   ]
  },
  {
   "cell_type": "code",
   "execution_count": 8,
   "id": "e2963e44-a2e5-4312-a320-2ca46c57d9dd",
   "metadata": {},
   "outputs": [],
   "source": [
    "#https://github.com/dmort27/epitran/blob/a30eef02327af0f5f1d161fa427f9e56545b3b64/epitran/epihan.py\n",
    "def transliterate_char(self, text):\n",
    "    tokens = self.cedict.tokenize(text)\n",
    "    ipa_tokens = []\n",
    "    for token in tokens:\n",
    "        if token in self.cedict.hanzi:\n",
    "            (pinyin, _) = self.cedict.hanzi[token]            \n",
    "            ipa = [self.rules.apply(pinyin_x)\n",
    "                   for pinyin_x in pinyin]\n",
    "            ipa = [x.replace(u',', u'') for x in ipa]\n",
    "            ipa_tokens.extend(ipa)\n",
    "        else:\n",
    "            ipa_tokens.append(token)\n",
    "    return ipa_tokens"
   ]
  },
  {
   "cell_type": "code",
   "execution_count": 9,
   "id": "6888f1a2-430c-4293-ad6f-6b9a539053e4",
   "metadata": {},
   "outputs": [],
   "source": [
    "def extract_dark_phones(phone_logits):\n",
    "    max_idxs = phone_logits.argsort()[::-1]\n",
    "    if max_idxs[0] != 0:\n",
    "        # return [ipa_tokens[i] for i in max_idxs[:1]]\n",
    "        return None\n",
    "    else:\n",
    "        return allo_ipas[max_idxs[1]]"
   ]
  },
  {
   "cell_type": "code",
   "execution_count": 75,
   "id": "31f075cb-91ef-45b8-b728-3008bc84f888",
   "metadata": {},
   "outputs": [],
   "source": [
    "def align_phones(paths, epi_phones, frames):\n",
    "    label_spans = groupby(paths, key=lambda x: x[1])\n",
    "    aligned = []\n",
    "    last_frame_i = -1\n",
    "    for epi_id, paths_x in label_spans:\n",
    "        epi_phone_x = epi_phones[epi_id]\n",
    "        paths_x = list(paths_x)\n",
    "        # print(label_id, paths_x)\n",
    "        start_frame_i = paths_x[0][0]\n",
    "        end_frame_i = paths_x[-1][0]\n",
    "\n",
    "        if last_frame_i == start_frame_i:\n",
    "            # skip duplicate frames, i.e. dropping labels\n",
    "            aligned.append((epi_phone_x, [])) \n",
    "            continue\n",
    "        else:\n",
    "            aligned.append((epi_phone_x, \n",
    "                           frames[start_frame_i:end_frame_i+1]))        \n",
    "        last_frame_i = start_frame_i\n",
    "    return aligned\n",
    "\n",
    "def align_characters(transcript, aligned_phones):        \n",
    "    char_map = []\n",
    "    cursor = 0\n",
    "    for ch_idx, ch_ipas in enumerate(epi.transliterate_char(transcript)):\n",
    "        char_phones_x = ft.ipa_segs(ch_ipas)        \n",
    "        char_map.append(list(range(cursor, cursor+len(char_phones_x)+1)))\n",
    "        cursor += len(char_phones_x)        \n",
    "    \n",
    "    aligned = []\n",
    "    for char_i, phone_idxs in enumerate(char_map):             \n",
    "        if not phone_idxs:\n",
    "            continue\n",
    "        first_phone_i = phone_idxs[0]\n",
    "        last_phone_i = phone_idxs[-1]\n",
    "        frames_x = [aligned_phones[i][1]\n",
    "                    for i in range(first_phone_i, last_phone_i)]\n",
    "        frames_x = sum(frames_x, [])        \n",
    "        aligned.append((transcript[char_i], frames_x))\n",
    "    return aligned"
   ]
  },
  {
   "cell_type": "code",
   "execution_count": 76,
   "id": "53490f26-c403-445a-82f2-68b2bb3a5fea",
   "metadata": {},
   "outputs": [],
   "source": [
    "# EpiPhone = str\n",
    "# Charac = str\n",
    "# AlignedEntries = Tuple[EpiPhone|Charac, List[EmitFrame]]\n",
    "# aligned_entries: List[AlignedPhone]\n",
    "def make_aligned_textgrid(aligned_entries):        \n",
    "    entries = []\n",
    "    for label_x, frames_x in aligned_entries:                \n",
    "        if not frames_x: continue\n",
    "        start = frames_x[0].offset_s    \n",
    "        end = frames_x[-1].end\n",
    "        entries.append((start, end, label_x))        \n",
    "    return entries\n",
    "\n",
    "def make_raw_textgrid(frames):\n",
    "    entries = []\n",
    "    for i in range(len(frames)):\n",
    "        start = frames[i].offset_s        \n",
    "        end = frames[i].end   \n",
    "        if frames[i].phone_token == \"<blk>\":\n",
    "            phone_token = \"[{}]\".format(extract_dark_phones(frames[i].phone_logits))\n",
    "        else:\n",
    "            phone_token = frames[i].phone_token\n",
    "        entries.append((start, end, phone_token))\n",
    "    return entries\n"
   ]
  },
  {
   "cell_type": "markdown",
   "id": "0041889d-d720-41aa-980f-3258f8889cde",
   "metadata": {},
   "source": [
    "## Aligning"
   ]
  },
  {
   "cell_type": "code",
   "execution_count": 12,
   "id": "f19f95f2-db2f-4cd9-a38b-4c8e7ef32a9d",
   "metadata": {},
   "outputs": [],
   "source": [
    "# globals\n",
    "ipa_text_path = Path(\"../data/allosaurus_ipas.txt\")\n",
    "allo_ipas = ipa_text_path.read_text(encoding=\"UTF-8\").split()\n",
    "ft = panphon.FeatureTable()"
   ]
  },
  {
   "cell_type": "code",
   "execution_count": 13,
   "id": "e240ffe9-cbff-428f-a414-f4cd5572bcca",
   "metadata": {},
   "outputs": [],
   "source": [
    "epi = epitran.Epitran('cmn-Hant', cedict_file='../data/cedict_1_0_ts_utf-8_mdbg.txt')\n",
    "emits = joblib.load(\"../data/emitframes_clgvd-210315091356.emit2.pkl\")\n",
    "ipa_text_path = Path(\"../data/allosaurus_ipas.txt\")\n",
    "vtt = webvtt.read(\"../data/clgvd-210315091356.wav.vtt\")\n",
    "\n",
    "epi.epi.transliterate_char = MethodType(transliterate_char, epi.epi)\n",
    "epi.transliterate_char = epi.epi.transliterate_char"
   ]
  },
  {
   "cell_type": "markdown",
   "id": "b9f720e2-219b-4148-bf9c-89bdeaee8416",
   "metadata": {},
   "source": [
    "## Main loop"
   ]
  },
  {
   "cell_type": "code",
   "execution_count": 80,
   "id": "cc9abd88-f374-414b-9a4e-2d5910ab1e07",
   "metadata": {},
   "outputs": [
    {
     "name": "stdout",
     "output_type": "stream",
     "text": [
      "00:03:29.480 00:03:31.680 而且我們我想您也瞭解\n"
     ]
    }
   ],
   "source": [
    "#　[i for i in range(len(vtt)) if \"長這樣\" in vtt[i].text]\n",
    "print(vtt[101])"
   ]
  },
  {
   "cell_type": "code",
   "execution_count": 81,
   "id": "4c7ab572-7064-4499-96c6-5402fc637ad7",
   "metadata": {},
   "outputs": [],
   "source": [
    "# 387 還是因為我時間到\n",
    "vtt_idx = 101"
   ]
  },
  {
   "cell_type": "code",
   "execution_count": 82,
   "id": "33d40e1f-98ed-421c-8b5a-1197e99a0ba1",
   "metadata": {},
   "outputs": [
    {
     "name": "stdout",
     "output_type": "stream",
     "text": [
      "34 27 230\n"
     ]
    }
   ],
   "source": [
    "vtt_x = vtt[vtt_idx]\n",
    "vtt_start = to_seconds(vtt_x.start)\n",
    "vtt_end = to_seconds(vtt_x.end)\n",
    "transcript = vtt_x.text\n",
    "frames = [x for x in emits\n",
    "          if vtt_start < x.offset_s < vtt_end]\n",
    "\n",
    "# set frame's `end` attribute for easier programming\n",
    "\n",
    "for frame_i in range(0, len(frames)-1):\n",
    "    setattr(frames[frame_i], \"start\", frames[frame_i].offset_s)\n",
    "    setattr(frames[frame_i], \"end\", frames[frame_i+1].offset_s)\n",
    "setattr(frames[0], \"start\", vtt_start)\n",
    "setattr(frames[-1], \"end\", vtt_end)\n",
    "\n",
    "# forced alignment\n",
    "# logit_mat: M (# of tokens) x V (# of phone set)\n",
    "logit_mat = np.vstack([x.phone_logits for x in frames])\n",
    "prob_mat = softmax(logit_mat)\n",
    "M, V = prob_mat.shape\n",
    "epi_ipas = epi.transliterate(transcript)\n",
    "epi_phones = ft.ipa_segs(epi_ipas)\n",
    "N = len(epi_phones)\n",
    "print(M, N, V)\n",
    "trellis, backtrack = compute_trellis(prob_mat, epi_phones)\n",
    "\n",
    "# trace paths\n",
    "init_point = (logit_mat.shape[0]-1, len(epi_phones)-1)\n",
    "paths = create_path(init_point, backtrack)\n",
    "aligned_phones = align_phones(paths, epi_phones, frames)\n",
    "aligned_chars = align_characters(transcript, aligned_phones)\n",
    "\n",
    "# write textgrids\n",
    "aligned_chars = make_aligned_textgrid(aligned_chars)\n",
    "aligned_entries = make_aligned_textgrid(aligned_phones)\n",
    "raw_entries = make_raw_textgrid(frames)\n",
    "tg = textgrid.Textgrid()\n",
    "minT = vtt_start\n",
    "maxT = vtt_end\n",
    "tg.addTier(textgrid.IntervalTier(\"characs\", entryList=aligned_chars, minT=minT, maxT=maxT))\n",
    "tg.addTier(textgrid.IntervalTier(\"phones\", entryList=aligned_entries, minT=minT, maxT=maxT))\n",
    "tg.addTier(textgrid.IntervalTier(\"alloframe\", entryList=raw_entries, minT=minT, maxT=maxT))\n",
    "tg.save(f\"../data/allosaurus.align.{vtt_idx}.TextGrid\", format=\"short_textgrid\", includeBlankSpaces=False)"
   ]
  },
  {
   "cell_type": "code",
   "execution_count": 41,
   "id": "7641f0ed-682b-4511-8f13-dc5fadb6b325",
   "metadata": {},
   "outputs": [
    {
     "data": {
      "text/plain": [
       "<matplotlib.colorbar.Colorbar at 0x2249dbad540>"
      ]
     },
     "execution_count": 41,
     "metadata": {},
     "output_type": "execute_result"
    },
    {
     "data": {
      "image/png": "[encoded data removed]",
      "text/plain": [
       "<Figure size 432x288 with 2 Axes>"
      ]
     },
     "metadata": {
      "needs_background": "light"
     },
     "output_type": "display_data"
    }
   ],
   "source": [
    "import matplotlib.pyplot as plt\n",
    "plt.imshow(trellis, 'terrain')\n",
    "plt.plot([j for (i,j) in paths], [i for (i,j) in paths], color='#FFAA00')\n",
    "plt.colorbar()\n",
    "# plt.axis('equal')\n"
   ]
  },
  {
   "cell_type": "code",
   "execution_count": 77,
   "id": "f39de53b-4909-4e66-a561-bf07063885e7",
   "metadata": {},
   "outputs": [
    {
     "data": {
      "text/plain": [
       "[('工',\n",
       "  [<EmitFrameInfo m @252.42>,\n",
       "   <EmitFrameInfo <blk> @252.45>,\n",
       "   <EmitFrameInfo u @252.48>,\n",
       "   <EmitFrameInfo m @252.51>]),\n",
       " ('作',\n",
       "  [<EmitFrameInfo <blk> @252.54>,\n",
       "   <EmitFrameInfo o @252.69>,\n",
       "   <EmitFrameInfo <blk> @252.75>]),\n",
       " ('完',\n",
       "  [<EmitFrameInfo w @252.81>,\n",
       "   <EmitFrameInfo a @252.84>,\n",
       "   <EmitFrameInfo <blk> @252.87>,\n",
       "   <EmitFrameInfo n @252.90>,\n",
       "   <EmitFrameInfo <blk> @252.93>]),\n",
       " ('成',\n",
       "  [<EmitFrameInfo ʂ @252.99>,\n",
       "   <EmitFrameInfo <blk> @253.02>,\n",
       "   <EmitFrameInfo e @253.05>,\n",
       "   <EmitFrameInfo <blk> @253.08>]),\n",
       " ('大', [<EmitFrameInfo t̪ @253.17>, <EmitFrameInfo a @253.20>]),\n",
       " ('概',\n",
       "  [<EmitFrameInfo <blk> @253.23>,\n",
       "   <EmitFrameInfo a @253.29>,\n",
       "   <EmitFrameInfo <blk> @253.32>]),\n",
       " ('要',\n",
       "  [<EmitFrameInfo j @253.35>,\n",
       "   <EmitFrameInfo a @253.41>,\n",
       "   <EmitFrameInfo l̪ @253.44>,\n",
       "   <EmitFrameInfo <blk> @253.47>,\n",
       "   <EmitFrameInfo s̪ @253.50>,\n",
       "   <EmitFrameInfo <blk> @253.59>,\n",
       "   <EmitFrameInfo ɤ @253.62>]),\n",
       " ('1', []),\n",
       " ('2', []),\n",
       " ('年',\n",
       "  [<EmitFrameInfo n @253.65>,\n",
       "   <EmitFrameInfo <blk> @253.68>,\n",
       "   <EmitFrameInfo a @253.71>,\n",
       "   <EmitFrameInfo <blk> @253.74>])]"
      ]
     },
     "execution_count": 77,
     "metadata": {},
     "output_type": "execute_result"
    }
   ],
   "source": [
    "align_characters(transcript, aligned_phones)"
   ]
  },
  {
   "cell_type": "code",
   "execution_count": null,
   "id": "4d69b8bb-191d-4edc-ae98-323e91d55978",
   "metadata": {},
   "outputs": [],
   "source": []
  }
 ],
 "metadata": {
  "kernelspec": {
   "display_name": "Python 3 (ipykernel)",
   "language": "python",
   "name": "python3"
  },
  "language_info": {
   "codemirror_mode": {
    "name": "ipython",
    "version": 3
   },
   "file_extension": ".py",
   "mimetype": "text/x-python",
   "name": "python",
   "nbconvert_exporter": "python",
   "pygments_lexer": "ipython3",
   "version": "3.10.2"
  }
 },
 "nbformat": 4,
 "nbformat_minor": 5
}
