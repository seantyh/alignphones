{
 "cells": [
  {
   "cell_type": "code",
   "execution_count": 1,
   "id": "770bb0e5-5f4a-449d-bdcf-bd7447bd6c99",
   "metadata": {},
   "outputs": [],
   "source": [
    "import sys\n",
    "import os\n",
    "from pathlib import Path\n",
    "import joblib\n",
    "\n",
    "from tqdm.auto import tqdm\n",
    "\n",
    "if \"../../allosaurus-emit\" not in sys.path:\n",
    "    sys.path.append(\"../../allosaurus-emit\")"
   ]
  },
  {
   "cell_type": "code",
   "execution_count": 2,
   "id": "b5e3254a-f099-4f44-b81a-508dfe062e40",
   "metadata": {},
   "outputs": [],
   "source": [
    "transcripts = Path(\"../data/transcripts.txt\").read_text(encoding=\"UTF-8\").replace(\" \", \"\").split(\"\\n\")"
   ]
  },
  {
   "cell_type": "code",
   "execution_count": 3,
   "id": "fc939c9a-8b88-4d2a-ad25-9243c88ca129",
   "metadata": {},
   "outputs": [
    {
     "data": {
      "text/plain": [
       "'哦你前你前前几天买的那个手机怎么样'"
      ]
     },
     "execution_count": 3,
     "metadata": {},
     "output_type": "execute_result"
    }
   ],
   "source": [
    "transcripts[0]"
   ]
  },
  {
   "cell_type": "code",
   "execution_count": 45,
   "id": "daf68f5d-b82b-45b6-a2f4-2ea3d768a489",
   "metadata": {},
   "outputs": [],
   "source": [
    "import panphon\n",
    "from functools import cache\n",
    "import epitran\n",
    "import numpy as np\n",
    "from praatio import textgrid\n",
    "from allosaurus.app import read_recognizer"
   ]
  },
  {
   "cell_type": "code",
   "execution_count": 4,
   "id": "779e7bca-56dc-4179-b97a-fb790de7d604",
   "metadata": {},
   "outputs": [],
   "source": [
    "model = read_recognizer()\n",
    "wav_path_x = Path(\"../data/speaker4051_mobile_003_1.wav\")\n",
    "frames = model.recognize(wav_path_x, emit=2, lang_id=\"cmn\")\n",
    "\n",
    "# make Textgrid\n",
    "model.to_TextGrid(frames, str(wav_path_x).replace(\".wav\", \".allo.TextGrid\"))"
   ]
  },
  {
   "cell_type": "code",
   "execution_count": 182,
   "id": "2167edfb-9a99-4499-94c1-c888cf233bd1",
   "metadata": {},
   "outputs": [],
   "source": [
    "def softmax(x):\n",
    "    return np.exp(x)/np.exp(x).sum(axis=1)[:,np.newaxis]\n"
   ]
  },
  {
   "cell_type": "code",
   "execution_count": 183,
   "id": "d36b3b8a-8fc1-41e1-9abc-7a14c29009cb",
   "metadata": {},
   "outputs": [],
   "source": [
    "# get allosaurus ipa table\n",
    "ft = panphon.FeatureTable()\n",
    "cmn_units = model.lm.inventory.get_unit(\"cmn\")\n",
    "ipa_units = model.lm.inventory.unit\n",
    "mask = model.lm.inventory.get_mask(\"cmn\", approximation=False)\n",
    "unit_map = mask.unit_map # mapping between ipa->cmn\n",
    "allo_ipas = list(ipa_units.id_to_unit.values())"
   ]
  },
  {
   "cell_type": "code",
   "execution_count": 242,
   "id": "2974239c-381a-48ad-94e9-04e9698a1c41",
   "metadata": {},
   "outputs": [],
   "source": [
    "@cache\n",
    "def compute_phone_dist(tgt_phone):\n",
    "    mask = np.array([x in ft.seg_dict for x in allo_ipas])\n",
    "    if tgt_phone not in ft.seg_dict:\n",
    "        dist_vec = np.ones((len(allo_ipas),))*15\n",
    "    else:\n",
    "        phone_dist = [ft.fts(tgt_phone).hamming_distance(ft.fts(allo_phone_x))\n",
    "                          for allo_phone_x in allo_ipas\n",
    "                          if allo_phone_x in ft.seg_dict]\n",
    "        dist_vec = np.zeros((len(allo_ipas),))\n",
    "        dist_vec[~mask] = np.max(phone_dist)+1\n",
    "        dist_vec[mask] = phone_dist\n",
    "    return dist_vec"
   ]
  },
  {
   "cell_type": "code",
   "execution_count": 243,
   "id": "b40d43e1-e952-493d-be8d-6da69dd8d792",
   "metadata": {},
   "outputs": [],
   "source": [
    "def compute_scores(prob_mat, tgt_phone):\n",
    "    dist_vec = compute_phone_dist(tgt_phone)\n",
    "    dist_vec = np.exp(-dist_vec)    \n",
    "    dist_vec /= np.sum(dist_vec)\n",
    "    # logit_mat: M X V\n",
    "    # dist_vec: V\n",
    "    score_vec = prob_mat.dot(dist_vec)    \n",
    "    Z = np.sum(score_vec)\n",
    "    p_vec = score_vec/Z\n",
    "    return p_vec"
   ]
  },
  {
   "cell_type": "code",
   "execution_count": 252,
   "id": "bc990634-6096-4be0-a4c8-e3dfe788ee70",
   "metadata": {},
   "outputs": [],
   "source": [
    "C_del = -np.log(0.02)\n",
    "def compute_trellis(prob_mat, epi_phones):\n",
    "    M, V = prob_mat.shape\n",
    "    N = len(epi_phones)\n",
    "    trellis = np.zeros((M, N))\n",
    "    trellis[0,:] = np.arange(N)\n",
    "    trellis[:,0] = np.arange(M)    \n",
    "    backtrack = {(0,i): ((0,i-1),i) for i in range(1,M)}\n",
    "    backtrack.update({(j,0): ((j-1,0),j) for j in range(1,N)})\n",
    "    for j in range(1,N):\n",
    "        mu_j = -np.log(compute_scores(prob_mat, epi_phones[j]))\n",
    "        for i in range(1,M):\n",
    "            dist_vec = [\n",
    "                # replace\n",
    "                trellis[i-1, j-1] + mu_j[i],\n",
    "                # delete (skip epi_phone)\n",
    "                trellis[i, j-1] + C_del,\n",
    "                # insert (stay at same epi_phone)\n",
    "                trellis[i-1, j] + mu_j[i]\n",
    "            ]\n",
    "            dist_argmin = np.argmin(dist_vec)\n",
    "            pointer = ((i-1,j-1),(i,j-1),(i-1,j))[dist_argmin]\n",
    "            mindist_x = np.min(dist_vec)\n",
    "            backtrack[i,j] = (pointer, mindist_x)        \n",
    "            trellis[i,j] = mindist_x\n",
    "    return trellis, backtrack\n",
    "        "
   ]
  },
  {
   "cell_type": "code",
   "execution_count": 253,
   "id": "59d48dc1-80a3-487e-8901-ba9a675a9083",
   "metadata": {},
   "outputs": [],
   "source": [
    "def create_path(init_point, backtrack):\n",
    "    path = []    \n",
    "    buf = [init_point]\n",
    "    while buf:\n",
    "        cur_point = buf.pop()\n",
    "        if cur_point in backtrack:\n",
    "            prev_point = backtrack[cur_point][0]\n",
    "            path.append(cur_point)\n",
    "            buf.append(prev_point)            \n",
    "    return path[::-1]            "
   ]
  },
  {
   "cell_type": "code",
   "execution_count": 291,
   "id": "f1450d0b-9746-4393-a52f-75d8eab3ee92",
   "metadata": {},
   "outputs": [],
   "source": [
    "epi = epitran.Epitran('cmn-Hant', cedict_file='../data/cedict_1_0_ts_utf-8_mdbg.txt')\n"
   ]
  },
  {
   "cell_type": "code",
   "execution_count": 297,
   "id": "57fe65a4-ca54-45a3-9347-af82c121dcbd",
   "metadata": {},
   "outputs": [
    {
     "data": {
      "text/plain": [
       "'ʈ͡ʂoŋwen'"
      ]
     },
     "execution_count": 297,
     "metadata": {},
     "output_type": "execute_result"
    }
   ],
   "source": [
    "epi.transliterate(\"中文\")"
   ]
  },
  {
   "cell_type": "code",
   "execution_count": 298,
   "id": "028e4ae1-1ef4-450f-958a-6100f921a581",
   "metadata": {},
   "outputs": [
    {
     "data": {
      "text/plain": [
       "['ʈ͡ʂ', 'o', 'ŋ', 'w', 'e', 'n']"
      ]
     },
     "execution_count": 298,
     "metadata": {},
     "output_type": "execute_result"
    }
   ],
   "source": [
    "ft.ipa_segs(\"ʈ͡ʂoŋwen\")"
   ]
  },
  {
   "cell_type": "code",
   "execution_count": 300,
   "id": "c61b2449-7166-4ddf-9317-a8884011c655",
   "metadata": {},
   "outputs": [
    {
     "name": "stdout",
     "output_type": "stream",
     "text": [
      "54 45 230\n"
     ]
    }
   ],
   "source": [
    "# logit_mat: M (# of tokens) x V (# of phone set)\n",
    "logit_mat = np.vstack([x.phone_logits for x in frames])\n",
    "prob_mat = softmax(logit_mat)\n",
    "M, V = prob_mat.shape\n",
    "epi = epitran.Epitran('cmn-Hans', cedict_file='../data/cedict_1_0_ts_utf-8_mdbg.txt')\n",
    "epi_ipas = epi.transliterate(transcripts[0])\n",
    "epi_phones = ft.ipa_segs(epi_ipas)\n",
    "N = len(epi_phones)\n",
    "print(M, N, V)\n",
    "trellis, backtrack = compute_trellis(prob_mat, epi_phones)"
   ]
  },
  {
   "cell_type": "code",
   "execution_count": 301,
   "id": "59250306-4a02-48b8-bbbd-5e55326992ca",
   "metadata": {},
   "outputs": [],
   "source": [
    "init_point = (logit_mat.shape[0]-1, len(epi_phones)-1)\n",
    "paths = create_path(init_point, backtrack)"
   ]
  },
  {
   "cell_type": "code",
   "execution_count": 331,
   "id": "7641f0ed-682b-4511-8f13-dc5fadb6b325",
   "metadata": {},
   "outputs": [
    {
     "data": {
      "text/plain": [
       "<matplotlib.colorbar.Colorbar at 0x243c6f2af50>"
      ]
     },
     "execution_count": 331,
     "metadata": {},
     "output_type": "execute_result"
    },
    {
     "data": {
      "image/png": "[encoded data removed]",
      "text/plain": [
       "<Figure size 432x288 with 2 Axes>"
      ]
     },
     "metadata": {
      "needs_background": "light"
     },
     "output_type": "display_data"
    }
   ],
   "source": [
    "plt.imshow(trellis, 'terrain')\n",
    "plt.plot([j for (i,j) in paths], [i for (i,j) in paths], color='#FFAA00')\n",
    "plt.colorbar()\n",
    "# plt.axis('equal')\n"
   ]
  },
  {
   "cell_type": "code",
   "execution_count": 306,
   "id": "b996b498-198d-4b3e-bfd3-a8c70766c9d3",
   "metadata": {},
   "outputs": [
    {
     "data": {
      "text/plain": [
       "['__annotations__',\n",
       " '__class__',\n",
       " '__dataclass_fields__',\n",
       " '__dataclass_params__',\n",
       " '__delattr__',\n",
       " '__dict__',\n",
       " '__dir__',\n",
       " '__doc__',\n",
       " '__eq__',\n",
       " '__format__',\n",
       " '__ge__',\n",
       " '__getattribute__',\n",
       " '__gt__',\n",
       " '__hash__',\n",
       " '__init__',\n",
       " '__init_subclass__',\n",
       " '__le__',\n",
       " '__lt__',\n",
       " '__match_args__',\n",
       " '__module__',\n",
       " '__ne__',\n",
       " '__new__',\n",
       " '__reduce__',\n",
       " '__reduce_ex__',\n",
       " '__repr__',\n",
       " '__setattr__',\n",
       " '__sizeof__',\n",
       " '__str__',\n",
       " '__subclasshook__',\n",
       " '__weakref__',\n",
       " 'bilstm_h',\n",
       " 'mfcc_vec',\n",
       " 'offset_idx',\n",
       " 'offset_s',\n",
       " 'phone_logits',\n",
       " 'phone_token',\n",
       " 'winsize_s']"
      ]
     },
     "execution_count": 306,
     "metadata": {},
     "output_type": "execute_result"
    }
   ],
   "source": [
    "dir(frames[0])"
   ]
  },
  {
   "cell_type": "code",
   "execution_count": 310,
   "id": "79a34d59-774e-49a8-8127-3936e98b2be2",
   "metadata": {},
   "outputs": [
    {
     "data": {
      "text/plain": [
       "0.045"
      ]
     },
     "execution_count": 310,
     "metadata": {},
     "output_type": "execute_result"
    }
   ],
   "source": [
    "frames[6].winsize_s"
   ]
  },
  {
   "cell_type": "code",
   "execution_count": 328,
   "id": "cbf9a084-ec8c-435d-8110-0e506d2aba6e",
   "metadata": {},
   "outputs": [],
   "source": [
    "from itertools import groupby\n",
    "label_spans = groupby(paths, key=lambda x: x[1])\n",
    "entries = []\n",
    "last_frame_i = -1\n",
    "for label_id, paths_x in label_spans:\n",
    "    paths_x = list(paths_x)\n",
    "    # print(label_id, paths_x)\n",
    "    start_frame_i = paths_x[0][0]\n",
    "    end_frame_i = paths_x[-1][0]\n",
    "    \n",
    "    if last_frame_i == start_frame_i:\n",
    "        # skip duplicate frames, i.e. dropping labels\n",
    "        continue\n",
    "    start = frames[start_frame_i].offset_s    \n",
    "    if end_frame_i+1 < len(frames):\n",
    "        end = frames[end_frame_i+1].offset_s\n",
    "    else:\n",
    "        end = frames[end_frame_i].offset_s + 0.045\n",
    "    entries.append((start, end, epi_phones[label_id]))\n",
    "    last_frame_i = start_frame_i\n"
   ]
  },
  {
   "cell_type": "code",
   "execution_count": 330,
   "id": "612db284-1ddf-4a92-b7f1-ca487a006276",
   "metadata": {},
   "outputs": [],
   "source": [
    "from praatio import textgrid\n",
    "tg = textgrid.Textgrid()\n",
    "tg.addTier(textgrid.IntervalTier(\"allo\", entryList=entries, minT=0, maxT=entries[-1][1]))\n",
    "tg.save(\"../data/speaker4051_mobile_003_1.align.TextGrid\", format=\"short_textgrid\", includeBlankSpaces=False)"
   ]
  },
  {
   "cell_type": "code",
   "execution_count": 321,
   "id": "9baddbc5-7fe8-405f-89dd-28fd564f0a07",
   "metadata": {},
   "outputs": [
    {
     "data": {
      "text/plain": [
       "['allosaurus-emit2']"
      ]
     },
     "execution_count": 321,
     "metadata": {},
     "output_type": "execute_result"
    }
   ],
   "source": [
    "tg.tierNameList"
   ]
  },
  {
   "cell_type": "markdown",
   "id": "c489d2ac-0fb5-4c07-acfa-b425692d107a",
   "metadata": {},
   "source": [
    "## Frames"
   ]
  },
  {
   "cell_type": "code",
   "execution_count": 5,
   "id": "f9e5e44b-a55e-4814-b965-1577b7d2e2dd",
   "metadata": {},
   "outputs": [
    {
     "data": {
      "text/plain": [
       "[<EmitFrameInfo p @  0.21>,\n",
       " <EmitFrameInfo w @  0.27>,\n",
       " <EmitFrameInfo a @  0.30>,\n",
       " <EmitFrameInfo n @  0.36>,\n",
       " <EmitFrameInfo m @  0.42>,\n",
       " <EmitFrameInfo i @  0.51>,\n",
       " <EmitFrameInfo n @  0.57>,\n",
       " <EmitFrameInfo k @  0.66>,\n",
       " <EmitFrameInfo i @  0.75>,\n",
       " <EmitFrameInfo s @  0.78>,\n",
       " <EmitFrameInfo t @  0.81>,\n",
       " <EmitFrameInfo u @  0.84>,\n",
       " <EmitFrameInfo m @  0.87>,\n",
       " <EmitFrameInfo n @  0.93>,\n",
       " <EmitFrameInfo i @  0.96>,\n",
       " <EmitFrameInfo l @  0.99>,\n",
       " <EmitFrameInfo j @  1.02>,\n",
       " <EmitFrameInfo k @  1.05>,\n",
       " <EmitFrameInfo i @  1.14>,\n",
       " <EmitFrameInfo s @  1.20>,\n",
       " <EmitFrameInfo k @  1.26>,\n",
       " <EmitFrameInfo a @  1.32>,\n",
       " <EmitFrameInfo t @  1.38>,\n",
       " <EmitFrameInfo n @  1.41>,\n",
       " <EmitFrameInfo i @  1.44>,\n",
       " <EmitFrameInfo t @  1.50>,\n",
       " <EmitFrameInfo tʰ @  1.53>,\n",
       " <EmitFrameInfo a @  1.56>,\n",
       " <EmitFrameInfo t @  1.62>,\n",
       " <EmitFrameInfo m @  1.65>,\n",
       " <EmitFrameInfo a @  1.71>,\n",
       " <EmitFrameInfo ə @  1.77>,\n",
       " <EmitFrameInfo n @  1.80>,\n",
       " <EmitFrameInfo a @  1.83>,\n",
       " <EmitFrameInfo n @  1.86>,\n",
       " <EmitFrameInfo m @  1.95>,\n",
       " <EmitFrameInfo a @  1.98>,\n",
       " <EmitFrameInfo k @  2.04>,\n",
       " <EmitFrameInfo ɕ @  2.07>,\n",
       " <EmitFrameInfo j @  2.10>,\n",
       " <EmitFrameInfo a @  2.13>,\n",
       " <EmitFrameInfo n @  2.16>,\n",
       " <EmitFrameInfo k @  2.22>,\n",
       " <EmitFrameInfo j @  2.28>,\n",
       " <EmitFrameInfo l @  2.34>,\n",
       " <EmitFrameInfo a @  2.40>,\n",
       " <EmitFrameInfo m @  2.46>,\n",
       " <EmitFrameInfo n @  2.49>,\n",
       " <EmitFrameInfo l @  2.52>,\n",
       " <EmitFrameInfo e @  2.55>,\n",
       " <EmitFrameInfo j @  2.58>,\n",
       " <EmitFrameInfo a @  2.61>,\n",
       " <EmitFrameInfo l @  2.70>,\n",
       " <EmitFrameInfo n @  2.85>]"
      ]
     },
     "execution_count": 5,
     "metadata": {},
     "output_type": "execute_result"
    }
   ],
   "source": [
    "frames"
   ]
  },
  {
   "cell_type": "code",
   "execution_count": null,
   "id": "3a4281e7-404d-4e04-9c09-dad9e4ddbac1",
   "metadata": {},
   "outputs": [],
   "source": []
  }
 ],
 "metadata": {
  "kernelspec": {
   "display_name": "Python 3 (ipykernel)",
   "language": "python",
   "name": "python3"
  },
  "language_info": {
   "codemirror_mode": {
    "name": "ipython",
    "version": 3
   },
   "file_extension": ".py",
   "mimetype": "text/x-python",
   "name": "python",
   "nbconvert_exporter": "python",
   "pygments_lexer": "ipython3",
   "version": "3.10.2"
  }
 },
 "nbformat": 4,
 "nbformat_minor": 5
}
